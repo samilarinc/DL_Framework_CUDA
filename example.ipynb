{
 "cells": [
  {
   "cell_type": "code",
   "execution_count": 2,
   "metadata": {},
   "outputs": [
    {
     "ename": "ModuleNotFoundError",
     "evalue": "No module named 'cudaMatrix'",
     "output_type": "error",
     "traceback": [
      "\u001b[0;31m---------------------------------------------------------------------------\u001b[0m",
      "\u001b[0;31mModuleNotFoundError\u001b[0m                       Traceback (most recent call last)",
      "\u001b[1;32m/mnt/c/Users/pc/CUDA/example.ipynb Cell 1\u001b[0m in \u001b[0;36m<cell line: 1>\u001b[0;34m()\u001b[0m\n\u001b[0;32m----> <a href='vscode-notebook-cell://wsl%2Bubuntu/mnt/c/Users/pc/CUDA/example.ipynb#ch0000000vscode-remote?line=0'>1</a>\u001b[0m \u001b[39mfrom\u001b[39;00m \u001b[39mcudaMatrix\u001b[39;00m \u001b[39mimport\u001b[39;00m cuda1DArray \u001b[39mas\u001b[39;00m arr\n\u001b[1;32m      <a href='vscode-notebook-cell://wsl%2Bubuntu/mnt/c/Users/pc/CUDA/example.ipynb#ch0000000vscode-remote?line=1'>2</a>\u001b[0m \u001b[39mimport\u001b[39;00m \u001b[39mnumpy\u001b[39;00m \u001b[39mas\u001b[39;00m \u001b[39mnp\u001b[39;00m\n",
      "\u001b[0;31mModuleNotFoundError\u001b[0m: No module named 'cudaMatrix'"
     ]
    }
   ],
   "source": [
    "from cudaMatrix import cuda1DArray as arr\n",
    "import numpy as np"
   ]
  },
  {
   "cell_type": "code",
   "execution_count": 7,
   "metadata": {},
   "outputs": [],
   "source": [
    "x = [[1,2,3], [4,5,6], [7,8,10]]\n",
    "y = [[1,2,3], [4,5,6], [7,8,10]]"
   ]
  },
  {
   "cell_type": "code",
   "execution_count": 8,
   "metadata": {},
   "outputs": [],
   "source": [
    "a = arr(x)\n",
    "b = np.array(y)"
   ]
  },
  {
   "cell_type": "code",
   "execution_count": 9,
   "metadata": {},
   "outputs": [],
   "source": [
    "from time import perf_counter"
   ]
  },
  {
   "cell_type": "code",
   "execution_count": 10,
   "metadata": {},
   "outputs": [
    {
     "name": "stdout",
     "output_type": "stream",
     "text": [
      "Numpy: 0.0902089999999589\n",
      "Custom: 23.70339160000003\n",
      "Speedup: 0.003805742297231371\n",
      "Relative speedup: 0.04218805548485301\n"
     ]
    }
   ],
   "source": [
    "np_start = perf_counter()\n",
    "for i in range(10000):\n",
    "    np.linalg.inv(b)\n",
    "np_end = perf_counter()\n",
    "custom_start = perf_counter()\n",
    "for i in range(10000):\n",
    "    a.inv()\n",
    "custom_end = perf_counter()\n",
    "print(\"Numpy:\", np_end - np_start)\n",
    "print(\"Custom:\", custom_end - custom_start)\n",
    "print(\"Speedup:\", (np_end - np_start) / (custom_end - custom_start))\n",
    "print(\"Relative speedup:\", (np_end - np_start) / (custom_end - custom_start) / (np_end - np_start))"
   ]
  },
  {
   "cell_type": "code",
   "execution_count": null,
   "metadata": {},
   "outputs": [],
   "source": []
  }
 ],
 "metadata": {
  "kernelspec": {
   "display_name": "Python 3.10.4 ('bind')",
   "language": "python",
   "name": "python3"
  },
  "language_info": {
   "codemirror_mode": {
    "name": "ipython",
    "version": 3
   },
   "file_extension": ".py",
   "mimetype": "text/x-python",
   "name": "python",
   "nbconvert_exporter": "python",
   "pygments_lexer": "ipython3",
   "version": "3.10.4"
  },
  "orig_nbformat": 4,
  "vscode": {
   "interpreter": {
    "hash": "047636c5c6789469c82f0942174792e8230c45586b1ce712451e434a430daef9"
   }
  }
 },
 "nbformat": 4,
 "nbformat_minor": 2
}
