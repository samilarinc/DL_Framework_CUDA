{
 "cells": [
  {
   "cell_type": "code",
   "execution_count": 13,
   "metadata": {},
   "outputs": [],
   "source": [
    "from cudaMatrix import cuda1DArray as arr\n",
    "import numpy as np"
   ]
  },
  {
   "cell_type": "code",
   "execution_count": 14,
   "metadata": {},
   "outputs": [],
   "source": [
    "x = [[1,2,3], [4,5,6], [7,8,10]]\n",
    "y = [[1,2,3], [4,5,6], [7,8,10]]"
   ]
  },
  {
   "cell_type": "code",
   "execution_count": 15,
   "metadata": {},
   "outputs": [],
   "source": [
    "a = arr(x)\n",
    "b = np.array(y)"
   ]
  },
  {
   "cell_type": "code",
   "execution_count": 16,
   "metadata": {},
   "outputs": [],
   "source": [
    "from time import perf_counter"
   ]
  },
  {
   "cell_type": "code",
   "execution_count": null,
   "metadata": {},
   "outputs": [],
   "source": [
    "np_start = perf_counter()\n",
    "for i in range(10000):\n",
    "    np.linalg.inv(b)\n",
    "np_end = perf_counter()\n",
    "custom_start = perf_counter()\n",
    "for i in range(10000):\n",
    "    a.inv()\n",
    "custom_end = perf_counter()\n",
    "print(\"Numpy:\", np_end - np_start)\n",
    "print(\"Custom:\", custom_end - custom_start)\n",
    "print(\"Speedup:\", (np_end - np_start) / (custom_end - custom_start))\n",
    "print(\"Relative speedup:\", (np_end - np_start) / (custom_end - custom_start) / (np_end - np_start))"
   ]
  }
 ],
 "metadata": {
  "kernelspec": {
   "display_name": "Python 3.10.4 ('bind')",
   "language": "python",
   "name": "python3"
  },
  "language_info": {
   "codemirror_mode": {
    "name": "ipython",
    "version": 3
   },
   "file_extension": ".py",
   "mimetype": "text/x-python",
   "name": "python",
   "nbconvert_exporter": "python",
   "pygments_lexer": "ipython3",
   "version": "3.10.4"
  },
  "orig_nbformat": 4,
  "vscode": {
   "interpreter": {
    "hash": "047636c5c6789469c82f0942174792e8230c45586b1ce712451e434a430daef9"
   }
  }
 },
 "nbformat": 4,
 "nbformat_minor": 2
}
